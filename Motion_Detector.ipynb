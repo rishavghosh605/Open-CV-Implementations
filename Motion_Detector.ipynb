{
 "cells": [
  {
   "cell_type": "markdown",
   "metadata": {},
   "source": [
    "It triggers the webcam \n",
    "1>The background for the initial frame must be static so that Python can compare and detct changes\n",
    "\n",
    "# check out thresholding ,dilation sophisticated kernels and gaussian blur"
   ]
  },
  {
   "cell_type": "code",
   "execution_count": 6,
   "metadata": {},
   "outputs": [
    {
     "name": "stdout",
     "output_type": "stream",
     "text": [
      "[datetime.datetime(2019, 3, 26, 22, 26, 49, 255235), datetime.datetime(2019, 3, 26, 22, 26, 52, 196409)]\n"
     ]
    }
   ],
   "source": [
    "import cv2\n",
    "from datetime import datetime\n",
    "import pandas\n",
    "\n",
    "# None  datatype is a special that allows you to create and assign nothing to it\n",
    "first_frame=None\n",
    "video=cv2.VideoCapture(0)\n",
    "status_list=[None,None]\n",
    "times=[]\n",
    "df=pandas.DataFrame(columns=[\"Start\",\"End\"])\n",
    "\n",
    "while True:\n",
    "    check,frame=video.read()\n",
    "    \n",
    "    status=0\n",
    "    \n",
    "    gray=cv2.cvtColor(frame,cv2.COLOR_BGR2GRAY)\n",
    "    \n",
    "    #We apply gaussian blur to make gray image blurry so as to smooth the image as it in turn removes noise and increases accuracy    \n",
    "    gray=cv2.GaussianBlur(gray,(21,21),0)\n",
    "    \n",
    "    if first_frame is None:\n",
    "        first_frame=gray\n",
    "        continue\n",
    "        \n",
    "    # We calculate the difference image between the current and the initial image\n",
    "    delta_frame=cv2.absdiff(first_frame,gray)\n",
    "    \n",
    "    # We calculate the threshold image\n",
    "    thresh_delta=cv2.threshold(delta_frame,30,255,cv2.THRESH_BINARY)[1]\n",
    "    \n",
    "    # We dilate the thresholded image\n",
    "    thresh_dilate=cv2.dilate(thresh_delta,None,iterations=15)\n",
    "    \n",
    "    # \n",
    "    (cnts,_)=cv2.findContours(thresh_delta.copy(),cv2.RETR_EXTERNAL,cv2.CHAIN_APPROX_SIMPLE)\n",
    "    \n",
    "    for contour in cnts:\n",
    "        if cv2.contourArea(contour)<1000:\n",
    "            continue\n",
    "        status=1\n",
    "        (x,y,w,h)=cv2.boundingRect(contour)\n",
    "        cv2.rectangle(frame,(x,y),(x+w,y+h),(0,255,0),3)\n",
    "    status_list.append(status)\n",
    "    if status_list[-1]==1 and status_list[-2]==0:\n",
    "        times.append(datetime.now())\n",
    "    if status_list[-1]==0 and status_list[-2]==1:\n",
    "        times.append(datetime.now())\n",
    "    \n",
    "    cv2.imshow(\"Delta Video\",delta_frame)\n",
    "    cv2.imshow(\"Threshold Video\",thresh_dilate)\n",
    "    cv2.imshow(\"Color Frame:\",frame)\n",
    "    \n",
    "    key=cv2.waitKey(1)\n",
    "    \n",
    "    if key==ord('q'):\n",
    "        if status==1:\n",
    "            times.append(datetime.now())\n",
    "        break\n",
    "print(times)\n",
    "video.release()\n",
    "for i in range(0,len(times),2):\n",
    "    df=df.append({\"Start\":times[i],\"End\":times[i+1]},ignore_index=True)\n",
    "df.to_csv(\"Times.csv\")\n",
    "cv2.destroyAllWindows()"
   ]
  },
  {
   "cell_type": "code",
   "execution_count": null,
   "metadata": {},
   "outputs": [],
   "source": []
  },
  {
   "cell_type": "code",
   "execution_count": null,
   "metadata": {},
   "outputs": [],
   "source": []
  }
 ],
 "metadata": {
  "kernelspec": {
   "display_name": "Python 3",
   "language": "python",
   "name": "python3"
  },
  "language_info": {
   "codemirror_mode": {
    "name": "ipython",
    "version": 3
   },
   "file_extension": ".py",
   "mimetype": "text/x-python",
   "name": "python",
   "nbconvert_exporter": "python",
   "pygments_lexer": "ipython3",
   "version": "3.7.0"
  }
 },
 "nbformat": 4,
 "nbformat_minor": 2
}
