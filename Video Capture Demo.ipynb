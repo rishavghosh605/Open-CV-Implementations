{
 "cells": [
  {
   "cell_type": "markdown",
   "metadata": {},
   "source": [
    "Performing video capture"
   ]
  },
  {
   "cell_type": "code",
   "execution_count": 1,
   "metadata": {},
   "outputs": [],
   "source": [
    "import cv2,time"
   ]
  },
  {
   "cell_type": "code",
   "execution_count": 2,
   "metadata": {},
   "outputs": [
    {
     "name": "stdout",
     "output_type": "stream",
     "text": [
      "True\n",
      "[[[ 29  28  44]\n",
      "  [ 25  23  39]\n",
      "  [  3  16  49]\n",
      "  ...\n",
      "  [ 17  60  70]\n",
      "  [ 19  59  64]\n",
      "  [ 21  61  67]]\n",
      "\n",
      " [[ 26  27  43]\n",
      "  [ 25  26  42]\n",
      "  [  8  19  50]\n",
      "  ...\n",
      "  [ 15  59  76]\n",
      "  [ 19  60  70]\n",
      "  [ 23  64  74]]\n",
      "\n",
      " [[ 19  26  42]\n",
      "  [ 19  26  42]\n",
      "  [ 12  21  50]\n",
      "  ...\n",
      "  [ 14  59  82]\n",
      "  [ 19  61  78]\n",
      "  [ 22  64  80]]\n",
      "\n",
      " ...\n",
      "\n",
      " [[  0  51  71]\n",
      "  [  0  53  73]\n",
      "  [  0  55  70]\n",
      "  ...\n",
      "  [118 149 153]\n",
      "  [124 151 151]\n",
      "  [124 151 151]]\n",
      "\n",
      " [[  0  54  64]\n",
      "  [  0  57  67]\n",
      "  [  0  57  69]\n",
      "  ...\n",
      "  [120 150 151]\n",
      "  [128 151 149]\n",
      "  [127 150 148]]\n",
      "\n",
      " [[  0  56  61]\n",
      "  [  0  58  64]\n",
      "  [  0  58  65]\n",
      "  ...\n",
      "  [119 148 150]\n",
      "  [126 149 147]\n",
      "  [126 149 147]]]\n",
      "(480, 640, 3)\n"
     ]
    }
   ],
   "source": [
    "#Capturing one initial frame\n",
    "video=cv2.VideoCapture(0)#As I have only one webcam I am initialising it as zero,basically using this code to open the camera\n",
    "check,frame=video.read()#check is a boolean and frame is a numpy datatype\n",
    "time.sleep(3)\n",
    "print(check)\n",
    "print(frame)#frame is the numpy version is the first image or frame that the webcam captures\n",
    "cv2.imshow(\"Captured:\",frame)\n",
    "print(frame.shape)\n",
    "video.release()#Stops the webcam or camera or similar devices\n",
    "cv2.waitKey(0)\n",
    "cv2.destroyAllWindows()"
   ]
  },
  {
   "cell_type": "code",
   "execution_count": 11,
   "metadata": {},
   "outputs": [
    {
     "data": {
      "text/plain": [
       "113"
      ]
     },
     "execution_count": 11,
     "metadata": {},
     "output_type": "execute_result"
    }
   ],
   "source": [
    "ord('q')"
   ]
  },
  {
   "cell_type": "code",
   "execution_count": null,
   "metadata": {},
   "outputs": [],
   "source": [
    "#Capturing a whole video that can be exited by pressing q\n",
    "video=cv2.VideoCapture(0)#As I have only one webcam I am initialising it as zero,basically using this code to open the camera\n",
    "while True:\n",
    "    check,frame=video.read()#check is a boolean and frame is a numpy datatype\n",
    "    print(check)\n",
    "    gray=cv2.cvtColor(frame,cv2.COLOR_BGR2GRAY)\n",
    "    cv2.imshow(\"Captured:\",gray)\n",
    "    key=cv2.waitKey(1)\n",
    "    print(key)\n",
    "    if key==ord('q'):\n",
    "        break\n",
    "video.release()#Stops the webcam or camera or similar devices\n",
    "\n",
    "cv2.destroyAllWindows()"
   ]
  }
 ],
 "metadata": {
  "kernelspec": {
   "display_name": "Python 3",
   "language": "python",
   "name": "python3"
  },
  "language_info": {
   "codemirror_mode": {
    "name": "ipython",
    "version": 3
   },
   "file_extension": ".py",
   "mimetype": "text/x-python",
   "name": "python",
   "nbconvert_exporter": "python",
   "pygments_lexer": "ipython3",
   "version": "3.7.0"
  }
 },
 "nbformat": 4,
 "nbformat_minor": 2
}
