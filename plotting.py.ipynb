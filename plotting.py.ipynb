{
 "cells": [
  {
   "cell_type": "code",
   "execution_count": 1,
   "metadata": {},
   "outputs": [
    {
     "name": "stdout",
     "output_type": "stream",
     "text": [
      "importing Jupyter notebook from Motion_Detector.ipynb\n",
      "[datetime.datetime(2019, 3, 26, 22, 41, 49, 367654), datetime.datetime(2019, 3, 26, 22, 41, 50, 601323), datetime.datetime(2019, 3, 26, 22, 41, 51, 607382), datetime.datetime(2019, 3, 26, 22, 41, 54, 778716), datetime.datetime(2019, 3, 26, 22, 41, 56, 151033), datetime.datetime(2019, 3, 26, 22, 42, 0, 854245), datetime.datetime(2019, 3, 26, 22, 42, 2, 150206), datetime.datetime(2019, 3, 26, 22, 42, 7, 605997), datetime.datetime(2019, 3, 26, 22, 42, 9, 446565), datetime.datetime(2019, 3, 26, 22, 42, 9, 639777), datetime.datetime(2019, 3, 26, 22, 42, 10, 655), datetime.datetime(2019, 3, 26, 22, 42, 11, 75911), datetime.datetime(2019, 3, 26, 22, 42, 12, 201492), datetime.datetime(2019, 3, 26, 22, 42, 12, 771529), datetime.datetime(2019, 3, 26, 22, 42, 13, 96478), datetime.datetime(2019, 3, 26, 22, 42, 13, 286376), datetime.datetime(2019, 3, 26, 22, 42, 13, 977215), datetime.datetime(2019, 3, 26, 22, 42, 15, 911050)]\n"
     ]
    }
   ],
   "source": [
    "import import_ipynb\n",
    "from Motion_Detector import df"
   ]
  },
  {
   "cell_type": "code",
   "execution_count": 2,
   "metadata": {},
   "outputs": [],
   "source": [
    "from bokeh.plotting import figure,output_file,show"
   ]
  },
  {
   "cell_type": "markdown",
   "metadata": {},
   "source": [
    "# Importing Hovertools to show the data over each glyph"
   ]
  },
  {
   "cell_type": "code",
   "execution_count": 3,
   "metadata": {},
   "outputs": [],
   "source": [
    "from bokeh.models import HoverTool,ColumnDataSource"
   ]
  },
  {
   "cell_type": "code",
   "execution_count": 4,
   "metadata": {},
   "outputs": [],
   "source": [
    "df[\"Start_string\"]=df[\"Start\"].dt.strftime(\"%Y-%m-%d  %H:%M:%S\")\n",
    "df[\"End_string\"]=df[\"End\"].dt.strftime(\"%Y-%m-%d  %H:%M:%S\")\n",
    "cds=ColumnDataSource(df)\n",
    "hover=HoverTool(tooltips=[(\"Start:\",\"@Start_string\"),(\"End:\",\"@End_string\")])"
   ]
  },
  {
   "cell_type": "code",
   "execution_count": 5,
   "metadata": {},
   "outputs": [],
   "source": [
    "p=figure(x_axis_type='datetime',height=100,width=500,sizing_mode=\"stretch_both\",title=\"Motion Graph\")\n",
    "p.quad(left=\"Start\",right=\"End\",bottom=0,top=1,color=\"green\",source=cds)\n",
    "p.add_tools(hover)\n",
    "output_file(\"Graph.html\")\n",
    "show(p)"
   ]
  },
  {
   "cell_type": "code",
   "execution_count": null,
   "metadata": {},
   "outputs": [],
   "source": []
  }
 ],
 "metadata": {
  "kernelspec": {
   "display_name": "Python 3",
   "language": "python",
   "name": "python3"
  },
  "language_info": {
   "codemirror_mode": {
    "name": "ipython",
    "version": 3
   },
   "file_extension": ".py",
   "mimetype": "text/x-python",
   "name": "python",
   "nbconvert_exporter": "python",
   "pygments_lexer": "ipython3",
   "version": "3.7.0"
  }
 },
 "nbformat": 4,
 "nbformat_minor": 2
}
