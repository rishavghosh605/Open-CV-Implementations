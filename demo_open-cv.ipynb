{
 "cells": [
  {
   "cell_type": "code",
   "execution_count": 25,
   "metadata": {},
   "outputs": [],
   "source": [
    "import cv2"
   ]
  },
  {
   "cell_type": "markdown",
   "metadata": {},
   "source": [
    "# Read before progressing...\n",
    "cv2.imread(/complete/path/to/image,flag)\n",
    "\n",
    "# Second argument is an optional flag which could be any one of the following:\n",
    "\n",
    "cv2.IMREAD_COLOR : Loads a color image. Any transparency of image will be neglected. It is the default flag.\n",
    "cv2.IMREAD_GRAYSCALE : Loads image in grayscale mode\n",
    "cv2.IMREAD_UNCHANGED : Loads image as such including alpha channel"
   ]
  },
  {
   "cell_type": "code",
   "execution_count": 22,
   "metadata": {},
   "outputs": [],
   "source": [
    "#Reading and displaying an image\n",
    "img = cv2.imread(r'.\\cvpics\\galaxy.jpg',cv2.IMREAD_COLOR)\n",
    "cv2.imshow('rrr',img)\n",
    "cv2.waitKey(0) # waits until a key is pressed\n",
    "cv2.destroyAllWindows() # destroys the window showing image"
   ]
  },
  {
   "cell_type": "code",
   "execution_count": 13,
   "metadata": {},
   "outputs": [
    {
     "name": "stdout",
     "output_type": "stream",
     "text": [
      "True\n"
     ]
    }
   ],
   "source": [
    "#Saving an image\n",
    "status=cv2.imwrite(r'.\\cvpics\\galaxy1.jpg',img)\n",
    "print(status)\n"
   ]
  },
  {
   "cell_type": "code",
   "execution_count": 19,
   "metadata": {},
   "outputs": [
    {
     "name": "stdout",
     "output_type": "stream",
     "text": [
      "Image Dimension    :  (768, 1024, 3)\n",
      "Image Height       :  768\n",
      "Image Width        :  1024\n",
      "Number of Channels :  3\n"
     ]
    }
   ],
   "source": [
    "#Getting image size and dimensions\n",
    "img = cv2.imread(r'.\\cvpics\\Lighthouse.jpg', cv2.IMREAD_COLOR)\n",
    " \n",
    "# the dimensions of image\n",
    "dimensions = img.shape\n",
    " \n",
    "# height, width and the number of channels in image\n",
    "height = img.shape[0]\n",
    "width = img.shape[1]\n",
    "channels = img.shape[2]\n",
    " \n",
    "print('Image Dimension    : ',dimensions)\n",
    "print('Image Height       : ',height)\n",
    "print('Image Width        : ',width)\n",
    "print('Number of Channels : ',channels)"
   ]
  },
  {
   "cell_type": "code",
   "execution_count": 20,
   "metadata": {},
   "outputs": [
    {
     "name": "stdout",
     "output_type": "stream",
     "text": [
      "Image Dimension    :  (768, 1024)\n",
      "Image Height       :  768\n",
      "Image Width        :  1024\n"
     ]
    }
   ],
   "source": [
    "#Getting image size and dimensions\n",
    "img = cv2.imread(r'.\\cvpics\\Lighthouse.jpg', cv2.IMREAD_GRAYSCALE)\n",
    " \n",
    "# the dimensions of image\n",
    "dimensions = img.shape\n",
    " \n",
    "# height, width and the number of channels in image\n",
    "height = img.shape[0]\n",
    "width = img.shape[1]\n",
    "\n",
    " \n",
    "print('Image Dimension    : ',dimensions)\n",
    "print('Image Height       : ',height)\n",
    "print('Image Width        : ',width)\n"
   ]
  },
  {
   "cell_type": "code",
   "execution_count": 21,
   "metadata": {},
   "outputs": [
    {
     "name": "stdout",
     "output_type": "stream",
     "text": [
      "Original Dimensions :  (809, 990, 3)\n",
      "Resized Dimensions :  (1779, 2178, 3)\n"
     ]
    }
   ],
   "source": [
    "#Resizing images\n",
    "img = cv2.imread(r'.\\cvpics\\Moon sinking, sun rising.jpg', cv2.IMREAD_COLOR)\n",
    " \n",
    "print('Original Dimensions : ',img.shape)\n",
    " \n",
    "scale_percent = 220 # percent of original size\n",
    "width = int(img.shape[1] * scale_percent / 100)\n",
    "height = int(img.shape[0] * scale_percent / 100)\n",
    "dim = (width, height)\n",
    "# resize image\n",
    "resized = cv2.resize(img, dim, interpolation = cv2.INTER_AREA)\n",
    " \n",
    "print('Resized Dimensions : ',resized.shape)\n",
    " \n",
    "cv2.imshow(\"Resized image\", resized)\n",
    "cv2.waitKey(0)\n",
    "cv2.destroyAllWindows()"
   ]
  },
  {
   "cell_type": "code",
   "execution_count": 23,
   "metadata": {},
   "outputs": [
    {
     "name": "stdout",
     "output_type": "stream",
     "text": [
      "Original Dimensions :  (809, 990, 3)\n",
      "Resized Dimensions :  (100, 100, 3)\n"
     ]
    }
   ],
   "source": [
    "#Resizing images\n",
    "img = cv2.imread(r'.\\cvpics\\Moon sinking, sun rising.jpg', cv2.IMREAD_COLOR)\n",
    " \n",
    "print('Original Dimensions : ',img.shape)\n",
    "\n",
    "width = 100\n",
    "height = 100\n",
    "dim = (width, height)\n",
    "# resize image, interpolation is optional\n",
    "resized = cv2.resize(img, dim, interpolation = cv2.INTER_AREA)\n",
    " \n",
    "print('Resized Dimensions : ',resized.shape)\n",
    " \n",
    "cv2.imshow(\"Resized image\", resized)\n",
    "cv2.waitKey(0)\n",
    "cv2.destroyAllWindows()"
   ]
  },
  {
   "cell_type": "code",
   "execution_count": 40,
   "metadata": {},
   "outputs": [
    {
     "name": "stdout",
     "output_type": "stream",
     "text": [
      ".\\cvpics\\galaxy.jpg\n",
      "True\n",
      ".\\cvpics\\galaxy1.jpg\n",
      "True\n",
      ".\\cvpics\\kangaroos-rain-australia_71370_990x742.jpg\n",
      "True\n",
      ".\\cvpics\\Lighthouse.jpg\n",
      "True\n",
      ".\\cvpics\\Moon sinking, sun rising.jpg\n",
      "True\n"
     ]
    }
   ],
   "source": [
    "# A script that resizes all images in a directory to 100x100. \n",
    "import cv2\n",
    "import glob\n",
    "images=glob.glob(r\".\\cvpics\\*.jpg\")\n",
    "dim=(100,100)\n",
    "i=0\n",
    "for image in images:\n",
    "    print(image)\n",
    "    i+=1\n",
    "    img=cv2.imread(image,cv2.IMREAD_COLOR)\n",
    "    res_img=cv2.resize(img,dim)\n",
    "    cv2.imshow(\"Resized image\",res_img)\n",
    "    cv2.waitKey(0)\n",
    "    cv2.destroyAllWindows()\n",
    "    status=cv2.imwrite(r\".\\cvpics\\resized_images\\ \"+str(i)+\".jpg\",res_img)#status shows if the files are saved or not\n",
    "    print(status)"
   ]
  },
  {
   "cell_type": "code",
   "execution_count": null,
   "metadata": {},
   "outputs": [],
   "source": []
  }
 ],
 "metadata": {
  "kernelspec": {
   "display_name": "Python 3",
   "language": "python",
   "name": "python3"
  },
  "language_info": {
   "codemirror_mode": {
    "name": "ipython",
    "version": 3
   },
   "file_extension": ".py",
   "mimetype": "text/x-python",
   "name": "python",
   "nbconvert_exporter": "python",
   "pygments_lexer": "ipython3",
   "version": "3.7.0"
  }
 },
 "nbformat": 4,
 "nbformat_minor": 2
}
